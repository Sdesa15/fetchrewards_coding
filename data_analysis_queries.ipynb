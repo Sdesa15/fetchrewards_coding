{
 "cells": [
  {
   "cell_type": "markdown",
   "metadata": {},
   "source": [
    "### In this notebook, the json data input is loaded and reviewed and new structured data is formed. Also, the new data is explored for quality issues."
   ]
  },
  {
   "cell_type": "code",
   "execution_count": null,
   "metadata": {},
   "outputs": [],
   "source": [
    "#Import all libraries\n",
    "import pandas as pd\n",
    "import json\n",
    "import numpy as np\n",
    "import pandasql as ps"
   ]
  },
  {
   "cell_type": "markdown",
   "metadata": {},
   "source": [
    "## Users data"
   ]
  },
  {
   "cell_type": "code",
   "execution_count": null,
   "metadata": {},
   "outputs": [],
   "source": [
    "#load users json and display first few rows of users dataframe\n",
    "users_list= []\n",
    "for line in open('users.json','r'):\n",
    "    users_list.append(json.loads(line))\n",
    "\n",
    "users_df=pd.json_normalize(users_list)\n",
    "users_df.head()"
   ]
  },
  {
   "cell_type": "code",
   "execution_count": null,
   "metadata": {},
   "outputs": [],
   "source": [
    "#check the datatypes \n",
    "users_df.dtypes"
   ]
  },
  {
   "cell_type": "markdown",
   "metadata": {},
   "source": [
    "### The lastLogin.$date column is changed to float during json_normalize because the columns contains NaN."
   ]
  },
  {
   "cell_type": "code",
   "execution_count": null,
   "metadata": {},
   "outputs": [],
   "source": [
    "#clean data that was changed\n",
    "users_df['lastLogin.$date'] = pd.to_datetime(users_df['lastLogin.$date'],unit = 'ms')"
   ]
  },
  {
   "cell_type": "code",
   "execution_count": null,
   "metadata": {},
   "outputs": [],
   "source": [
    "#convert epcoh time to datetime\n",
    "users_df['createdDate.$date'] = pd.to_datetime(users_df['createdDate.$date'],unit='ms')"
   ]
  },
  {
   "cell_type": "code",
   "execution_count": null,
   "metadata": {},
   "outputs": [],
   "source": [
    "#columns names contains special characters , replacing them \n",
    "users_df=users_df.rename(columns={\"_id.$oid\": \"user_id\",\"createdDate.$date\":\"createdDate.date\",\"lastLogin.$date\":\"lastLogin.date\"})\n",
    "users_df.head()"
   ]
  },
  {
   "cell_type": "code",
   "execution_count": null,
   "metadata": {},
   "outputs": [],
   "source": [
    "#check if rows are duplicated\n",
    "users_df.duplicated()"
   ]
  },
  {
   "cell_type": "code",
   "execution_count": null,
   "metadata": {},
   "outputs": [],
   "source": [
    "users_df.iloc[1:3,:]"
   ]
  },
  {
   "cell_type": "code",
   "execution_count": null,
   "metadata": {},
   "outputs": [],
   "source": [
    "#drop duplicates\n",
    "users=users_df.drop_duplicates(keep=\"first\", inplace=False).reset_index(drop=True)\n",
    "users.head()"
   ]
  },
  {
   "cell_type": "code",
   "execution_count": null,
   "metadata": {},
   "outputs": [],
   "source": [
    "#save the new users data\n",
    "users.to_csv(\"users.csv\")"
   ]
  },
  {
   "cell_type": "markdown",
   "metadata": {},
   "source": [
    "## Brands data"
   ]
  },
  {
   "cell_type": "code",
   "execution_count": null,
   "metadata": {},
   "outputs": [],
   "source": [
    "#load data and display first few rows of the dataframe \n",
    "brands_list= []\n",
    "for line in open('brands.json','r'):\n",
    "    brands_list.append(json.loads(line))\n",
    "brands_df=pd.json_normalize(brands_list)\n",
    "brands_df.head()"
   ]
  },
  {
   "cell_type": "code",
   "execution_count": null,
   "metadata": {},
   "outputs": [],
   "source": [
    "#columns names contains special characters , replacing them \n",
    "brands=brands_df.rename(columns={\"_id.$oid\": \"brand_uuid\",\"cpg.$ref\":\"cpg.ref\",\"cpg.$id.$oid\":\"cpg.id.oid\"})\n",
    "brands.head()"
   ]
  },
  {
   "cell_type": "code",
   "execution_count": null,
   "metadata": {},
   "outputs": [],
   "source": [
    "#check for duplicates\n",
    "brands.duplicated().value_counts()"
   ]
  },
  {
   "cell_type": "code",
   "execution_count": null,
   "metadata": {},
   "outputs": [],
   "source": [
    "#save new dataframe\n",
    "brands.to_csv(\"brands.csv\")"
   ]
  },
  {
   "cell_type": "markdown",
   "metadata": {},
   "source": [
    "## Receipts data"
   ]
  },
  {
   "cell_type": "code",
   "execution_count": null,
   "metadata": {},
   "outputs": [],
   "source": [
    "#load data and display first few rows of the dataframe\n",
    "receipts_list= []\n",
    "for line in open('receipts.json','r'):\n",
    "    receipts_list.append(json.loads(line))\n",
    "receipts_df=pd.json_normalize(receipts_list)\n",
    "receipts_df.head()"
   ]
  },
  {
   "cell_type": "code",
   "execution_count": null,
   "metadata": {},
   "outputs": [],
   "source": [
    "#changing datatypes for columns\n",
    "receipts_df['totalSpent'] = receipts_df['totalSpent'].astype('float64')\n",
    "receipts_df['purchasedItemCount'] = receipts_df['purchasedItemCount'].astype('Int64')\n",
    "receipts_df['pointsEarned'] = receipts_df['pointsEarned'].astype('float64')"
   ]
  },
  {
   "cell_type": "code",
   "execution_count": null,
   "metadata": {},
   "outputs": [],
   "source": [
    "#columns names contains special characters , replacing them \n",
    "receipts_df=receipts_df.rename(columns={\"_id.$oid\": \"receipt_uuid\",\"dateScanned.$date\":\"dateScanned\",\n",
    "                                       \"createDate.$date\":\"createDate\",\"finishedDate.$date\":\"finishedDate\",\n",
    "                                      \"modifyDate.$date\":\"modifyDate\",\"pointsAwardedDate.$date\":\"pointsAwardedDate\",\n",
    "                                      \"purchaseDate.$date\":\"purchaseDate\" })\n",
    "receipts_df.head()"
   ]
  },
  {
   "cell_type": "code",
   "execution_count": null,
   "metadata": {},
   "outputs": [],
   "source": [
    "#The date columns are changed to float during json_normalize because the columns contains NaN.\n",
    "receipts_df.iloc[:,9:]=receipts_df.iloc[:,9:].apply(pd.to_datetime,unit='ms', errors='coerce')"
   ]
  },
  {
   "cell_type": "code",
   "execution_count": null,
   "metadata": {},
   "outputs": [],
   "source": [
    "receipts_df.head()"
   ]
  },
  {
   "cell_type": "markdown",
   "metadata": {},
   "source": [
    "## extracting Receiptitemlist from receipts "
   ]
  },
  {
   "cell_type": "code",
   "execution_count": null,
   "metadata": {},
   "outputs": [],
   "source": [
    "#check if there exist any null values in the two columns\n",
    "ReceiptItemList=receipts_df[[\"rewardsReceiptItemList\",\"receipt_uuid\"]]\n",
    "ReceiptItemList.isnull().values.any()\n"
   ]
  },
  {
   "cell_type": "code",
   "execution_count": null,
   "metadata": {},
   "outputs": [],
   "source": [
    "receipts= receipts_df.drop(columns=['rewardsReceiptItemList'])\n",
    "receipts.head()"
   ]
  },
  {
   "cell_type": "code",
   "execution_count": null,
   "metadata": {},
   "outputs": [],
   "source": [
    "#check for duplicates\n",
    "receipts.duplicated().value_counts()"
   ]
  },
  {
   "cell_type": "code",
   "execution_count": null,
   "metadata": {},
   "outputs": [],
   "source": [
    "#check how many null values are present\n",
    "ReceiptItemList[\"rewardsReceiptItemList\"].isnull().sum()"
   ]
  },
  {
   "cell_type": "code",
   "execution_count": null,
   "metadata": {},
   "outputs": [],
   "source": [
    "#replace Nan in receipt item list to empty list([])\n",
    "ReceiptItemList[\"rewardsReceiptItemList\"]=[[] if x is np.NaN else x for x in ReceiptItemList[\"rewardsReceiptItemList\"]]\n",
    "ReceiptItemList[\"rewardsReceiptItemList\"].isnull().sum()"
   ]
  },
  {
   "cell_type": "code",
   "execution_count": null,
   "metadata": {},
   "outputs": [],
   "source": [
    "#extracting and flattening nested json\n",
    "ReceiptItemList_df = pd.concat({i: pd.json_normalize(x) for i, x in ReceiptItemList.pop('rewardsReceiptItemList').items()\n",
    "                                   }).reset_index(level=1, drop=True).join(ReceiptItemList).reset_index()"
   ]
  },
  {
   "cell_type": "code",
   "execution_count": null,
   "metadata": {},
   "outputs": [],
   "source": [
    "ReceiptItemList_df['quantityPurchased'] = ReceiptItemList_df['quantityPurchased'].astype('Int64')"
   ]
  },
  {
   "cell_type": "code",
   "execution_count": null,
   "metadata": {},
   "outputs": [],
   "source": [
    "ReceiptItemList_df.head()"
   ]
  },
  {
   "cell_type": "code",
   "execution_count": null,
   "metadata": {},
   "outputs": [],
   "source": [
    "ReceiptItemList_df=ReceiptItemList_df.rename(columns={\"index\":\"receiptitem_id\"})"
   ]
  },
  {
   "cell_type": "code",
   "execution_count": null,
   "metadata": {},
   "outputs": [],
   "source": [
    "ReceiptItemList_df.head()"
   ]
  },
  {
   "cell_type": "code",
   "execution_count": null,
   "metadata": {},
   "outputs": [],
   "source": [
    "ReceiptItemList_df.to_csv(\"receiptsitemlist.csv\")"
   ]
  },
  {
   "cell_type": "markdown",
   "metadata": {},
   "source": [
    "## We can observe lot of Nulls in the column fields , we can explore them in detail in the explore part of notebook"
   ]
  },
  {
   "cell_type": "code",
   "execution_count": null,
   "metadata": {},
   "outputs": [],
   "source": [
    "ps.sqldf(\"select * from users\")\n",
    "ps.sqldf(\"select * from brands\")\n",
    "ps.sqldf(\"select * from receipts\")\n",
    "ps.sqldf(\"select * from ReceiptItemList_df\");"
   ]
  },
  {
   "cell_type": "markdown",
   "metadata": {},
   "source": [
    "# 1.What are the top 5 brands by receipts scanned for most recent month?"
   ]
  },
  {
   "cell_type": "code",
   "execution_count": null,
   "metadata": {
    "scrolled": true
   },
   "outputs": [],
   "source": [
    "query=\"\"\"select distinct * from (\n",
    "    select *, dense_rank() over(order by brand_cnt desc) as rnk from (select b.name, count(*) over(partition by b.name) as brand_cnt \n",
    "from receipts r \n",
    "join ReceiptItemList_df r2 on (r2.receipt_uuid = r.receipt_uuid)\n",
    "join users u on (r.userid = u.user_id)\n",
    "join brands b on (b.barcode = r2.barcode)\n",
    "where datescanned BETWEEN datetime('now', '-30 days') AND datetime('now', 'localtime')\n",
    "order by 2 desc\n",
    ") t \n",
    ") t2 \n",
    "where rnk <= 5\n",
    "\"\"\"\n",
    "ps.sqldf(query)"
   ]
  },
  {
   "cell_type": "markdown",
   "metadata": {},
   "source": [
    "## Lets explore if the data has recent months data"
   ]
  },
  {
   "cell_type": "code",
   "execution_count": null,
   "metadata": {},
   "outputs": [],
   "source": [
    "receipts[receipts[\"dateScanned\"].dt.month==\"5\"]"
   ]
  },
  {
   "cell_type": "code",
   "execution_count": null,
   "metadata": {},
   "outputs": [],
   "source": [
    "max(receipts[\"dateScanned\"])"
   ]
  },
  {
   "cell_type": "markdown",
   "metadata": {},
   "source": [
    "#### So there is no recent data . The data is till march 2021"
   ]
  },
  {
   "cell_type": "markdown",
   "metadata": {},
   "source": [
    "# 2. How does the ranking of the top 5 brands by receipts scanned for the recent month compare to the ranking for the previous month?"
   ]
  },
  {
   "cell_type": "code",
   "execution_count": null,
   "metadata": {},
   "outputs": [],
   "source": [
    "query2=\"\"\"\n",
    "select distinct * \n",
    "from \n",
    "(select *, dense_rank() over(order by brand_cnt desc) as rnk \n",
    "from \n",
    "(select b.name, count(*) over(partition by b.name) as brand_cnt \n",
    "from receipts r \n",
    "join ReceiptItemList_df r2 on (r2.receipt_uuid = r.receipt_uuid)\n",
    "join users u on (r.userid = u.user_id)\n",
    "join brands b on (b.barcode = r2.barcode)\n",
    "where datescanned BETWEEN datetime('now', '-60 days') AND datetime('now', '-30 days')\n",
    "order by 2 desc\n",
    ") t \n",
    ") t2 \n",
    "where rnk <= 5\n",
    "\"\"\"\n",
    "ps.sqldf(query2)"
   ]
  },
  {
   "cell_type": "markdown",
   "metadata": {},
   "source": [
    "### As observed , the data is only till March 2021. So the above query results are empty "
   ]
  },
  {
   "cell_type": "markdown",
   "metadata": {},
   "source": [
    "# 3. When considering average spend from receipts with 'rewardsReceiptStatus’ of ‘Accepted’ or ‘Rejected’, which is greater?"
   ]
  },
  {
   "cell_type": "code",
   "execution_count": null,
   "metadata": {},
   "outputs": [],
   "source": [
    "query3=\"\"\"\n",
    "select rewardsreceiptstatus, avg(totalspent) \n",
    "from receipts r \n",
    "where rewardsreceiptstatus in ('FINISHED', 'REJECTED')\n",
    "group by 1 \n",
    "order by 2 desc\n",
    "\"\"\"\n",
    "ps.sqldf(query3)"
   ]
  },
  {
   "cell_type": "markdown",
   "metadata": {},
   "source": [
    "## Accepted is greater"
   ]
  },
  {
   "cell_type": "markdown",
   "metadata": {},
   "source": [
    "# 4. When considering total number of items purchased from receipts with 'rewardsReceiptStatus’ of ‘Accepted’ or ‘Rejected’, which is greater?"
   ]
  },
  {
   "cell_type": "code",
   "execution_count": null,
   "metadata": {},
   "outputs": [],
   "source": [
    "query4=\"\"\"\n",
    "select r2.rewardsreceiptstatus, sum(quantitypurchased) \n",
    "from ReceiptItemList_df r \n",
    "join receipts r2 on (r2.receipt_uuid = r.receipt_uuid)\n",
    "where rewardsreceiptstatus in ('FINISHED', 'REJECTED')\n",
    "group by 1 \n",
    "order by 2 desc\n",
    "\"\"\"\n",
    "ps.sqldf(query4)"
   ]
  },
  {
   "cell_type": "markdown",
   "metadata": {},
   "source": [
    "## Accepted is greater"
   ]
  },
  {
   "cell_type": "markdown",
   "metadata": {},
   "source": [
    "# 5. Which brand has the most spend among users who were created within the past 6 months?"
   ]
  },
  {
   "cell_type": "code",
   "execution_count": null,
   "metadata": {},
   "outputs": [],
   "source": [
    "query5=\"\"\"select b.\"name\", sum(quantitypurchased) \n",
    "from receipts r \n",
    "join ReceiptItemList_df r2 on (r2.receipt_uuid = r.receipt_uuid)\n",
    "join users u on (r.userid = u.user_id)\n",
    "join brands b on (b.barcode = r2.barcode)\n",
    "where u.\"createdDate.date\" BETWEEN datetime('now', '-6 months') AND datetime('now', 'localtime')\n",
    "group by 1\n",
    "order by 2 desc\n",
    "\"\"\"\n",
    "ps.sqldf(query5)"
   ]
  },
  {
   "cell_type": "markdown",
   "metadata": {},
   "source": [
    "# 6. Which brand has the most transactions among users who were created within the past 6 months?"
   ]
  },
  {
   "cell_type": "code",
   "execution_count": null,
   "metadata": {},
   "outputs": [],
   "source": [
    "query6=\"\"\"select b.\"name\", count(*)\n",
    "from receipts r \n",
    "join ReceiptItemList_df r2 on (r2.receipt_uuid = r.receipt_uuid)\n",
    "join users u on (r.userid = u.user_id)\n",
    "join brands b on (b.barcode = r2.barcode)\n",
    "where u.\"createdDate.date\" BETWEEN datetime('now', '-6 months') AND datetime('now', 'localtime')\n",
    "group by 1\n",
    "order by 2 desc\n",
    "\"\"\"\n",
    "ps.sqldf(query6)"
   ]
  },
  {
   "cell_type": "markdown",
   "metadata": {},
   "source": [
    "# Exploring data for quality issues"
   ]
  },
  {
   "cell_type": "markdown",
   "metadata": {},
   "source": [
    "### So far we observed, \n",
    "#### 1. The column names have special characters and need to renamed to be readable.\n",
    "#### 2. user_id is not unique in users dataframe and has lot of duplicates\n",
    "#### 3. There are lot of Null values for rows for different columns, we need to treat Null values before we apply any modeling techniques\n",
    "#### or use data for analysis. The data can be replaced by mean ,median or mode or remove the rows that do \n",
    "#### not add value for analysis or modeling."
   ]
  },
  {
   "cell_type": "code",
   "execution_count": null,
   "metadata": {},
   "outputs": [],
   "source": [
    "#lets compare userid in receipts and users dataframe\n",
    "print(\" Number of users\", users['user_id'].nunique())\n",
    "print(\" Number of users in receipts df\", receipts['userId'].nunique())"
   ]
  },
  {
   "cell_type": "markdown",
   "metadata": {},
   "source": [
    "#### Based on this observation, receipts has some users that are not in users dataframe"
   ]
  },
  {
   "cell_type": "code",
   "execution_count": null,
   "metadata": {},
   "outputs": [],
   "source": [
    "print(\"Number of users present in receipts table that are not in users table:\",len(set(receipts[\"userId\"].unique())-set(users[\"user_id\"].unique())))"
   ]
  },
  {
   "cell_type": "code",
   "execution_count": null,
   "metadata": {},
   "outputs": [],
   "source": [
    "#users that are not in users table but present in receipts\n",
    "set(receipts[\"userId\"].unique())-set(users[\"user_id\"].unique())"
   ]
  },
  {
   "cell_type": "markdown",
   "metadata": {},
   "source": [
    "### we have used barcode as Foreign key to join brands and receiptitemlist"
   ]
  },
  {
   "cell_type": "code",
   "execution_count": null,
   "metadata": {},
   "outputs": [],
   "source": [
    "len(ReceiptItemList_df)"
   ]
  },
  {
   "cell_type": "code",
   "execution_count": null,
   "metadata": {},
   "outputs": [],
   "source": [
    "ReceiptItemList_df.iloc[1:7,:]"
   ]
  },
  {
   "cell_type": "markdown",
   "metadata": {},
   "source": [
    "###  We can observe there are receipts with barcode not found and barcode 1234 for the ones that dont have description"
   ]
  },
  {
   "cell_type": "code",
   "execution_count": null,
   "metadata": {},
   "outputs": [],
   "source": [
    "ReceiptItemList_df[\"barcode\"].isnull().sum()"
   ]
  },
  {
   "cell_type": "markdown",
   "metadata": {},
   "source": [
    "### we can notice lot of records having null values for barcode in ReceiptItemList_df, which is important field as each receipt is associated with a unique barcode to identify items and there brands"
   ]
  },
  {
   "cell_type": "code",
   "execution_count": null,
   "metadata": {},
   "outputs": [],
   "source": [
    "brands[\"name\"].value_counts()"
   ]
  },
  {
   "cell_type": "code",
   "execution_count": null,
   "metadata": {},
   "outputs": [],
   "source": [
    "brands[brands[\"name\"]==\"Diabetic Living Magazine\"]"
   ]
  },
  {
   "cell_type": "markdown",
   "metadata": {},
   "source": [
    "### Same brand name is associated with different barcodes.\n"
   ]
  },
  {
   "cell_type": "markdown",
   "metadata": {},
   "source": [
    "## Overall, the data is lacking consistency "
   ]
  }
 ],
 "metadata": {
  "kernelspec": {
   "display_name": "Python 3",
   "language": "python",
   "name": "python3"
  },
  "language_info": {
   "codemirror_mode": {
    "name": "ipython",
    "version": 3
   },
   "file_extension": ".py",
   "mimetype": "text/x-python",
   "name": "python",
   "nbconvert_exporter": "python",
   "pygments_lexer": "ipython3",
   "version": "3.8.3"
  }
 },
 "nbformat": 4,
 "nbformat_minor": 4
}
